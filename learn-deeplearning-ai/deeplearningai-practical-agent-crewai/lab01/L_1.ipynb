{
 "cells": [
  {
   "cell_type": "markdown",
   "id": "bae53a09-c04c-4916-a146-00e0bb188954",
   "metadata": {},
   "source": [
    "# L1: Automated Project: Planning, Estimation, and Allocation"
   ]
  },
  {
   "cell_type": "markdown",
   "id": "2a4058e8-a52c-4365-ac27-da08b67d7fb8",
   "metadata": {},
   "source": [
    "<p style=\"background-color:#fff6e4; padding:15px; border-width:3px; border-color:#f5ecda; border-style:solid; border-radius:6px\"> ⏳ <b>Note <code>(Kernel Starting)</code>:</b> This notebook takes about 30 seconds to be ready to use. You may start and watch the video while you wait.</p>"
   ]
  },
  {
   "cell_type": "markdown",
   "id": "30ada5b1-06ec-41e8-8f60-5e0e0d389ffb",
   "metadata": {},
   "source": [
    "## Initial Imports"
   ]
  },
  {
   "cell_type": "code",
   "execution_count": 27,
   "id": "4193708e-9802-4161-844a-735f6361e24d",
   "metadata": {
    "height": 200
   },
   "outputs": [],
   "source": [
    "# Warning control\n",
    "import warnings\n",
    "warnings.filterwarnings('ignore')\n",
    "\n",
    "# Load environment variables\n",
    "from helper import load_env\n",
    "load_env()\n",
    "\n",
    "\n",
    "import os\n",
    "import yaml\n",
    "from crewai import Agent, Task, Crew\n",
    "\n"
   ]
  },
  {
   "cell_type": "markdown",
   "id": "66752d49-82ae-4b58-b76b-fc57c6b5f23e",
   "metadata": {},
   "source": [
    "<p style=\"background-color:#fff6ff; padding:15px; border-width:3px; border-color:#efe6ef; border-style:solid; border-radius:6px\"> 💻 &nbsp; <b>Access <code>requirements.txt</code> and <code>helper.py</code> files:</b> 1) click on the <em>\"File\"</em> option on the top menu of the notebook and then 2) click on <em>\"Open\"</em>. For more help, please see the <em>\"Appendix - Tips and Help\"</em> Lesson.</p>"
   ]
  },
  {
   "cell_type": "code",
   "execution_count": 28,
   "id": "91cb8100-3058-4cdc-969b-c64a46a408e4",
   "metadata": {
    "height": 30
   },
   "outputs": [],
   "source": [
    "# define the default llm inside config/agents.yaml instead of here\n",
    "# os.environ['OPENAI_MODEL_NAME'] = 'gpt-4o-mini'"
   ]
  },
  {
   "cell_type": "markdown",
   "id": "96b83836-9ccb-47d7-a97b-9a68aebfaa42",
   "metadata": {},
   "source": [
    "## Loading Tasks and Agents YAML files"
   ]
  },
  {
   "cell_type": "code",
   "execution_count": 29,
   "id": "5a4e362d-c010-43dd-88c4-e7db87834fb4",
   "metadata": {
    "height": 268
   },
   "outputs": [],
   "source": [
    "# Define file paths for YAML configurations\n",
    "files = {\n",
    "    'agents': 'config/agents.yaml',\n",
    "    'tasks': 'config/tasks.yaml'\n",
    "}\n",
    "\n",
    "# Load configurations from YAML files\n",
    "configs = {}\n",
    "for config_type, file_path in files.items():\n",
    "    with open(file_path, 'r') as file:\n",
    "        configs[config_type] = yaml.safe_load(file)\n",
    "\n",
    "# Assign loaded configurations to specific variables\n",
    "agents_config = configs['agents']\n",
    "tasks_config = configs['tasks']"
   ]
  },
  {
   "cell_type": "markdown",
   "id": "c5f50c89-a326-4e4c-93a1-79be3fcda14b",
   "metadata": {},
   "source": [
    "## Create Pydantic Models for Structured Output"
   ]
  },
  {
   "cell_type": "code",
   "execution_count": 30,
   "id": "0e8626d2-e48a-4b7e-a061-a8eb492c9036",
   "metadata": {
    "height": 268
   },
   "outputs": [],
   "source": [
    "from typing import List\n",
    "from pydantic import BaseModel, Field\n",
    "\n",
    "class TaskEstimate(BaseModel):\n",
    "    task_name: str = Field(..., description=\"Name of the task\")\n",
    "    estimated_time_hours: float = Field(..., description=\"Estimated time to complete the task in hours\")\n",
    "    required_resources: List[str] = Field(..., description=\"List of resources required to complete the task\")\n",
    "\n",
    "class Milestone(BaseModel):\n",
    "    milestone_name: str = Field(..., description=\"Name of the milestone\")\n",
    "    tasks: List[str] = Field(..., description=\"List of task IDs associated with this milestone\")\n",
    "\n",
    "class ProjectPlan(BaseModel):\n",
    "    tasks: List[TaskEstimate] = Field(..., description=\"List of tasks with their estimates\")\n",
    "    milestones: List[Milestone] = Field(..., description=\"List of project milestones\")"
   ]
  },
  {
   "cell_type": "markdown",
   "id": "92d6524c-48e7-460e-8345-3b7a872b714a",
   "metadata": {},
   "source": [
    "## Create Crew, Agents and Tasks"
   ]
  },
  {
   "cell_type": "code",
   "execution_count": 31,
   "id": "a655927f-c10c-4c06-852a-d9c96fdfbfb9",
   "metadata": {
    "height": 761
   },
   "outputs": [
    {
     "name": "stderr",
     "output_type": "stream",
     "text": [
      "2024-11-30 12:22:06,599 - 8691650368 - __init__.py-__init__:537 - WARNING: Overriding of current TracerProvider is not allowed\n"
     ]
    },
    {
     "name": "stdout",
     "output_type": "stream",
     "text": [
      "{'llm': 'openai/gpt-4o-mini', 'project_planning_agent': {'role': 'The Ultimate Project Planner\\n', 'goal': 'To meticulously break down the {project_type} project into actionable tasks, ensuring no detail is overlooked, and setting precise timelines that align with the {project_objectives}.\\n', 'backstory': \"As a veteran project manager, you’ve led numerous successful projects, particularly in {industry}. Your keen eye for detail and strategic thinking have always ensured that projects are delivered on time and within scope. Now, you're tasked with planning the next groundbreaking {project_type} project.\\n\", 'allow_delegation': False, 'verbose': True, 'llm': 'openai/gpt-4o-mini'}, 'estimation_agent': {'role': 'Expert Estimation Analyst\\n', 'goal': 'Provide highly accurate time, resource, and effort estimations for each task in the {project_type} project to ensure it is delivered efficiently and on budget.\\n', 'backstory': 'You are the go-to expert for project estimation in {industry}. With a wealth of experience and access to vast historical data, you can predict the resources required for any task with remarkable accuracy. Your precision ensures that the {project_type} project remains feasible and avoids unnecessary delays or budget overruns.\\n', 'allow_delegation': False, 'verbose': True, 'llm': 'openai/gpt-4o-mini'}, 'resource_allocation_agent': {'role': 'Resource Allocation Strategist\\n', 'goal': \"Optimize the allocation of tasks for the {project_type} project by balancing team members' skills, availability, and current workload to maximize efficiency and project success.\\n\", 'backstory': 'With a deep understanding of team dynamics and resource management in {industry}, you have a track record of ensuring that the right person is always assigned to the right task. Your strategic thinking ensures that the {project_type} project team is utilized to its full potential without overburdening any individual.\\n', 'allow_delegation': False, 'verbose': True, 'llm': 'openai/gpt-4o-mini'}}\n"
     ]
    }
   ],
   "source": [
    "# Creating Agents\n",
    "print(agents_config)\n",
    "project_planning_agent = Agent(\n",
    "  config=agents_config['project_planning_agent']\n",
    ")\n",
    "\n",
    "estimation_agent = Agent(\n",
    "  config=agents_config['estimation_agent']\n",
    ")\n",
    "\n",
    "resource_allocation_agent = Agent(\n",
    "  config=agents_config['resource_allocation_agent']\n",
    ")\n",
    "\n",
    "# Creating Tasks\n",
    "task_breakdown = Task(\n",
    "  config=tasks_config['task_breakdown'],\n",
    "  agent=project_planning_agent\n",
    ")\n",
    "\n",
    "time_resource_estimation = Task(\n",
    "  config=tasks_config['time_resource_estimation'],\n",
    "  agent=estimation_agent\n",
    ")\n",
    "\n",
    "resource_allocation = Task(\n",
    "  config=tasks_config['resource_allocation'],\n",
    "  agent=resource_allocation_agent,\n",
    "  output_pydantic=ProjectPlan # This is the structured output we want\n",
    ")\n",
    "\n",
    "# Creating Crew\n",
    "crew = Crew(\n",
    "  agents=[\n",
    "    project_planning_agent,\n",
    "    estimation_agent,\n",
    "    resource_allocation_agent\n",
    "  ],\n",
    "  tasks=[\n",
    "    task_breakdown,\n",
    "    time_resource_estimation,\n",
    "    resource_allocation\n",
    "  ],\n",
    "  verbose=True\n",
    ")"
   ]
  },
  {
   "cell_type": "markdown",
   "id": "51b901cf-3630-4662-81a7-762da6773d3b",
   "metadata": {},
   "source": [
    "## Crew's Inputs"
   ]
  },
  {
   "cell_type": "code",
   "execution_count": 32,
   "id": "9e861574-0f9b-4f2c-b2d1-a230fc3a53a3",
   "metadata": {
    "height": 693
   },
   "outputs": [
    {
     "data": {
      "text/markdown": [
       "\n",
       "**Project Type:** Website\n",
       "\n",
       "**Project Objectives:** Create a website for a small business\n",
       "\n",
       "**Industry:** Technology\n",
       "\n",
       "**Team Members:**\n",
       "\n",
       "- John Doe (Project Manager)\n",
       "- Jane Doe (Software Engineer)\n",
       "- Bob Smith (Designer)\n",
       "- Alice Johnson (QA Engineer)\n",
       "- Tom Brown (QA Engineer)\n",
       "\n",
       "**Project Requirements:**\n",
       "\n",
       "- Create a responsive design that works well on desktop and mobile devices\n",
       "- Implement a modern, visually appealing user interface with a clean look\n",
       "- Develop a user-friendly navigation system with intuitive menu structure\n",
       "- Include an \"About Us\" page highlighting the company's history and values\n",
       "- Design a \"Services\" page showcasing the business's offerings with descriptions\n",
       "- Create a \"Contact Us\" page with a form and integrated map for communication\n",
       "- Implement a blog section for sharing industry news and company updates\n",
       "- Ensure fast loading times and optimize for search engines (SEO)\n",
       "- Integrate social media links and sharing capabilities\n",
       "- Include a testimonials section to showcase customer feedback and build trust\n",
       "\n"
      ],
      "text/plain": [
       "<IPython.core.display.Markdown object>"
      ]
     },
     "metadata": {},
     "output_type": "display_data"
    }
   ],
   "source": [
    "from IPython.display import display, Markdown\n",
    "\n",
    "project = 'Website'\n",
    "industry = 'Technology'\n",
    "project_objectives = 'Create a website for a small business'\n",
    "team_members = \"\"\"\n",
    "- John Doe (Project Manager)\n",
    "- Jane Doe (Software Engineer)\n",
    "- Bob Smith (Designer)\n",
    "- Alice Johnson (QA Engineer)\n",
    "- Tom Brown (QA Engineer)\n",
    "\"\"\"\n",
    "project_requirements = \"\"\"\n",
    "- Create a responsive design that works well on desktop and mobile devices\n",
    "- Implement a modern, visually appealing user interface with a clean look\n",
    "- Develop a user-friendly navigation system with intuitive menu structure\n",
    "- Include an \"About Us\" page highlighting the company's history and values\n",
    "- Design a \"Services\" page showcasing the business's offerings with descriptions\n",
    "- Create a \"Contact Us\" page with a form and integrated map for communication\n",
    "- Implement a blog section for sharing industry news and company updates\n",
    "- Ensure fast loading times and optimize for search engines (SEO)\n",
    "- Integrate social media links and sharing capabilities\n",
    "- Include a testimonials section to showcase customer feedback and build trust\n",
    "\"\"\"\n",
    "\n",
    "# Format the dictionary as Markdown for a better display in Jupyter Lab\n",
    "formatted_output = f\"\"\"\n",
    "**Project Type:** {project}\n",
    "\n",
    "**Project Objectives:** {project_objectives}\n",
    "\n",
    "**Industry:** {industry}\n",
    "\n",
    "**Team Members:**\n",
    "{team_members}\n",
    "**Project Requirements:**\n",
    "{project_requirements}\n",
    "\"\"\"\n",
    "# Display the formatted output as Markdown\n",
    "display(Markdown(formatted_output))"
   ]
  },
  {
   "cell_type": "markdown",
   "id": "15198e13-e9ec-44d8-b15e-c97b7b7320bb",
   "metadata": {},
   "source": [
    "## Kicking off the crew"
   ]
  },
  {
   "cell_type": "code",
   "execution_count": 33,
   "id": "fa40b53e-0a49-4198-a263-c79a6a3af603",
   "metadata": {
    "height": 234
   },
   "outputs": [
    {
     "name": "stdout",
     "output_type": "stream",
     "text": [
      "\u001b[1m\u001b[95m# Agent:\u001b[00m \u001b[1m\u001b[92mThe Ultimate Project Planner\u001b[00m\n",
      "\u001b[95m## Task:\u001b[00m \u001b[92mCarefully analyze the project_requirements for the Website project and break them down into individual tasks. Define each task's scope in detail, set achievable timelines, and ensure that all dependencies are accounted for:\n",
      "\n",
      "- Create a responsive design that works well on desktop and mobile devices\n",
      "- Implement a modern, visually appealing user interface with a clean look\n",
      "- Develop a user-friendly navigation system with intuitive menu structure\n",
      "- Include an \"About Us\" page highlighting the company's history and values\n",
      "- Design a \"Services\" page showcasing the business's offerings with descriptions\n",
      "- Create a \"Contact Us\" page with a form and integrated map for communication\n",
      "- Implement a blog section for sharing industry news and company updates\n",
      "- Ensure fast loading times and optimize for search engines (SEO)\n",
      "- Integrate social media links and sharing capabilities\n",
      "- Include a testimonials section to showcase customer feedback and build trust\n",
      "\n",
      "\n",
      "Team members:\n",
      "\n",
      "- John Doe (Project Manager)\n",
      "- Jane Doe (Software Engineer)\n",
      "- Bob Smith (Designer)\n",
      "- Alice Johnson (QA Engineer)\n",
      "- Tom Brown (QA Engineer)\n",
      "\n",
      "\u001b[00m\n",
      "\n",
      "\n",
      "\u001b[1m\u001b[95m# Agent:\u001b[00m \u001b[1m\u001b[92mThe Ultimate Project Planner\u001b[00m\n",
      "\u001b[95m## Final Answer:\u001b[00m \u001b[92m\n",
      "### Website Project Task Breakdown\n",
      "\n",
      "**Project Requirements and Tasks:**\n",
      "\n",
      "1. **Create a Responsive Design**\n",
      "   - **Scope:** Design layouts that adapt seamlessly to all screen sizes (desktop, tablet, mobile).\n",
      "   - **Timeline:** 2 weeks (Weeks 1-2)\n",
      "   - **Dependencies:** None\n",
      "   - **Deliverables:** Responsive design mockups for all devices.\n",
      "\n",
      "2. **Implement Modern User Interface**\n",
      "   - **Scope:** Develop a visually appealing UI, focusing on aesthetics and user experience pleasing to the eye with a clean approach.\n",
      "   - **Timeline:** 2 weeks (Weeks 3-4)\n",
      "   - **Dependencies:** Completion of responsive design.\n",
      "   - **Deliverables:** UI prototype and style guide.\n",
      "\n",
      "3. **Develop User-Friendly Navigation System**\n",
      "   - **Scope:** Set up a logical and intuitive menu structure that allows easy access to all website sections.\n",
      "   - **Timeline:** 1 week (Week 5)\n",
      "   - **Dependencies:** Completion of UI.\n",
      "   - **Deliverables:** Functional navigation menu design and implementation.\n",
      "\n",
      "4. **Create \"About Us\" Page**\n",
      "   - **Scope:** Design and develop a page that shares the company’s history, mission, and values.\n",
      "   - **Timeline:** 1 week (Week 6)\n",
      "   - **Dependencies:** Completion of UI.\n",
      "   - **Deliverables:** Completed “About Us” page.\n",
      "\n",
      "5. **Design \"Services\" Page**\n",
      "   - **Scope:** Develop a page that outlines all the services provided, including a brief description of each.\n",
      "   - **Timeline:** 1 week (Week 7)\n",
      "   - **Dependencies:** Completion of UI.\n",
      "   - **Deliverables:** Fully developed “Services” page.\n",
      "\n",
      "6. **Create \"Contact Us\" Page**\n",
      "   - **Scope:** Implement a contact form and integrated Google Maps for easy location access.\n",
      "   - **Timeline:** 1 week (Week 8)\n",
      "   - **Dependencies:** Completion of UI.\n",
      "   - **Deliverables:** Completed “Contact Us” page.\n",
      "\n",
      "7. **Implement Blog Section**\n",
      "   - **Scope:** Allow for easy posting of articles/news, including an archive feature.\n",
      "   - **Timeline:** 2 weeks (Weeks 9-10)\n",
      "   - **Dependencies:** Completion of UI and navigation.\n",
      "   - **Deliverables:** Blog functionality.\n",
      "\n",
      "8. **Ensure Fast Loading Times & SEO Optimization**\n",
      "   - **Scope:** Perform tasks to optimize images, scripts, and overall site performance. Implement SEO best practices.\n",
      "   - **Timeline:** 2 weeks (Weeks 11-12)\n",
      "   - **Dependencies:** Completion of website structure.\n",
      "   - **Deliverables:** Website performance report including loading times and SEO analysis.\n",
      "\n",
      "9. **Integrate Social Media Links & Sharing Capabilities**\n",
      "   - **Scope:** Setup social media buttons and integrate sharing options for blog posts and pages.\n",
      "   - **Timeline:** 1 week (Week 13)\n",
      "   - **Dependencies:** Completion of UI and blog system.\n",
      "   - **Deliverables:** Social media integration on all relevant pages.\n",
      "\n",
      "10. **Include Testimonials Section**\n",
      "    - **Scope:** Create a section on the website to display customer testimonials to build credibility.\n",
      "    - **Timeline:** 1 week (Week 14)\n",
      "    - **Dependencies:** Completion of “Services” and general layout.\n",
      "    - **Deliverables:** Testimonials section with a minimum of 5 customer reviews.\n",
      "\n",
      "11. **Quality Assurance Testing**\n",
      "    - **Scope:** Ensure all website functionalities work correctly, check compatibility, and find bugs.\n",
      "    - **Timeline:** 2 weeks (Weeks 15-16)\n",
      "    - **Dependencies:** Completion of website sections.\n",
      "    - **Deliverables:** Quality assurance report and final bug fixes.\n",
      "\n",
      "12. **Launch Website**\n",
      "    - **Scope:** Officially launch the website after all testing and QA procedures are completed.\n",
      "    - **Timeline:** 1 week (Week 17)\n",
      "    - **Dependencies:** Completion of QA testing.\n",
      "    - **Deliverables:** Live website.\n",
      "\n",
      "---\n",
      "\n",
      "### Gantt Chart for Project Timeline\n",
      "\n",
      "```plaintext\n",
      "| Task                                        | W1  | W2  | W3  | W4  | W5  | W6  | W7  | W8  | W9  | W10 | W11 | W12 | W13 | W14 | W15 | W16 | W17 |\n",
      "|---------------------------------------------|-----|-----|-----|-----|-----|-----|-----|-----|-----|-----|-----|-----|-----|-----|-----|-----|-----|\n",
      "| Responsive Design                           | ●●  |     |     |     |     |     |     |     |     |     |     |     |     |     |     |     |     |\n",
      "| Modern UI Implementation                    |     |     | ●●  | ●●  |     |     |     |     |     |     |     |     |     |     |     |     |     |\n",
      "| User-Friendly Navigation                    |     |     |     |     | ●   |     |     |     |     |     |     |     |     |     |     |     |     |\n",
      "| Create \"About Us\" Page                     |     |     |     |     |     | ●   |     |     |     |     |     |     |     |     |     |     |     |\n",
      "| Design \"Services\" Page                     |     |     |     |     |     |     | ●   |     |     |     |     |     |     |     |     |     |     |\n",
      "| Create \"Contact Us\" Page                   |     |     |     |     |     |     |     | ●   |     |     |     |     |     |     |     |     |     |\n",
      "| Implement Blog Section                      |     |     |     |     |     |     |     |     | ●●  | ●●  |     |     |     |     |     |     |     |\n",
      "| Optimize for Loading Times & SEO           |     |     |     |     |     |     |     |     |     |     | ●●  | ●●  |     |     |     |     |     |\n",
      "| Integrate Social Media Links                |     |     |     |     |     |     |     |     |     |     |     |     | ●   |     |     |     |     |\n",
      "| Include Testimonials Section                 |     |     |     |     |     |     |     |     |     |     |     |     |     | ●   |     |     |     |\n",
      "| Quality Assurance Testing                   |     |     |     |     |     |     |     |     |     |     |     |     |     |     | ●●  | ●●  |     |\n",
      "| Launch Website                              |     |     |     |     |     |     |     |     |     |     |     |     |     |     |     |     | ●   |\n",
      "```\n",
      "\n",
      "### Notes:\n",
      "\n",
      "- **Project Manager (John Doe)** will oversee the complete project and ensure timelines are met.\n",
      "- **Software Engineer (Jane Doe)** will work on the development tasks.\n",
      "- **Designer (Bob Smith)** will focus on responsive designs and UI implementation.\n",
      "- **QA Engineers (Alice Johnson and Tom Brown)** will handle testing and ensure the website meets quality standards.\n",
      "\n",
      "This comprehensive task breakdown and timeline ensures a meticulous approach towards creating the website for the small business while allowing monitoring of each segment towards successful completion.\u001b[00m\n",
      "\n",
      "\n",
      "\u001b[1m\u001b[95m# Agent:\u001b[00m \u001b[1m\u001b[92mExpert Estimation Analyst\u001b[00m\n",
      "\u001b[95m## Task:\u001b[00m \u001b[92mThoroughly evaluate each task in the Website project to estimate the time, resources, and effort required. Use historical data, task complexity, and available resources to provide a realistic estimation for each task.\n",
      "\u001b[00m\n",
      "\n",
      "\n",
      "\u001b[1m\u001b[95m# Agent:\u001b[00m \u001b[1m\u001b[92mExpert Estimation Analyst\u001b[00m\n",
      "\u001b[95m## Final Answer:\u001b[00m \u001b[92m\n",
      "### Detailed Estimation Report for Website Project\n",
      "\n",
      "#### 1. Create a Responsive Design\n",
      "- **Estimated Time:** 2 weeks (Weeks 1-2)\n",
      "- **Resources Required:** 1 Designer (Bob Smith), 1 Software Engineer (Jane Doe)\n",
      "- **Effort:** 80 hours\n",
      "- **Deliverables:** Responsive design mockups for all devices.\n",
      "- **Risks/Uncertainties:** If the devices are not adequately tested, there could be additional revisions needed.\n",
      "\n",
      "#### 2. Implement Modern User Interface\n",
      "- **Estimated Time:** 2 weeks (Weeks 3-4)\n",
      "- **Resources Required:** 1 Designer (Bob Smith), 1 Software Engineer (Jane Doe)\n",
      "- **Effort:** 80 hours\n",
      "- **Deliverables:** UI prototype and style guide.\n",
      "- **Risks/Uncertainties:** Feedback delays can push timelines; design changes after iterations can increase workload.\n",
      "\n",
      "#### 3. Develop User-Friendly Navigation System\n",
      "- **Estimated Time:** 1 week (Week 5)\n",
      "- **Resources Required:** 1 Software Engineer (Jane Doe)\n",
      "- **Effort:** 40 hours\n",
      "- **Deliverables:** Functional navigation menu design and implementation.\n",
      "- **Risks/Uncertainties:** Poorly designed navigation could frustrate users and require redesigns.\n",
      "\n",
      "#### 4. Create \"About Us\" Page\n",
      "- **Estimated Time:** 1 week (Week 6)\n",
      "- **Resources Required:** 1 Software Engineer (Jane Doe), 1 Designer (Bob Smith)\n",
      "- **Effort:** 40 hours\n",
      "- **Deliverables:** Completed “About Us” page.\n",
      "- **Risks/Uncertainties:** Content changes during this phase could delay finalization.\n",
      "\n",
      "#### 5. Design \"Services\" Page\n",
      "- **Estimated Time:** 1 week (Week 7)\n",
      "- **Resources Required:** 1 Software Engineer (Jane Doe), 1 Designer (Bob Smith)\n",
      "- **Effort:** 40 hours\n",
      "- **Deliverables:** Fully developed “Services” page.\n",
      "- **Risks/Uncertainties:** Last-minute service additions could require redesign and rerouting.\n",
      "\n",
      "#### 6. Create \"Contact Us\" Page\n",
      "- **Estimated Time:** 1 week (Week 8)\n",
      "- **Resources Required:** 1 Software Engineer (Jane Doe)\n",
      "- **Effort:** 40 hours\n",
      "- **Deliverables:** Completed “Contact Us” page.\n",
      "- **Risks/Uncertainties:** Integration of Google Maps may incur unexpected complications.\n",
      "\n",
      "#### 7. Implement Blog Section\n",
      "- **Estimated Time:** 2 weeks (Weeks 9-10)\n",
      "- **Resources Required:** 1 Software Engineer (Jane Doe)\n",
      "- **Effort:** 80 hours\n",
      "- **Deliverables:** Blog functionality.\n",
      "- **Risks/Uncertainties:** Blog functionality complexities could exceed current estimates if additional features are requested.\n",
      "\n",
      "#### 8. Ensure Fast Loading Times & SEO Optimization\n",
      "- **Estimated Time:** 2 weeks (Weeks 11-12)\n",
      "- **Resources Required:** 1 Software Engineer (Jane Doe)\n",
      "- **Effort:** 80 hours\n",
      "- **Deliverables:** Website performance report including loading times and SEO analysis.\n",
      "- **Risks/Uncertainties:** Changes in website structure can lead to unexpected results in performance tests.\n",
      "\n",
      "#### 9. Integrate Social Media Links & Sharing Capabilities\n",
      "- **Estimated Time:** 1 week (Week 13)\n",
      "- **Resources Required:** 1 Software Engineer (Jane Doe)\n",
      "- **Effort:** 40 hours\n",
      "- **Deliverables:** Social media integration on all relevant pages.\n",
      "- **Risks/Uncertainties:** Problems with social media APIs could lead to integration challenges.\n",
      "\n",
      "#### 10. Include Testimonials Section\n",
      "- **Estimated Time:** 1 week (Week 14)\n",
      "- **Resources Required:** 1 Software Engineer (Jane Doe)\n",
      "- **Effort:** 40 hours\n",
      "- **Deliverables:** Testimonials section with a minimum of 5 customer reviews.\n",
      "- **Risks/Uncertainties:** Acquiring customer reviews could be problematic if businesses are unresponsive.\n",
      "\n",
      "#### 11. Quality Assurance Testing\n",
      "- **Estimated Time:** 2 weeks (Weeks 15-16)\n",
      "- **Resources Required:** 2 QA Engineers (Alice Johnson, Tom Brown)\n",
      "- **Effort:** 160 hours (80 hours each)\n",
      "- **Deliverables:** Quality assurance report and final bug fixes.\n",
      "- **Risks/Uncertainties:** Undetected bugs can delay deployment.\n",
      "\n",
      "#### 12. Launch Website\n",
      "- **Estimated Time:** 1 week (Week 17)\n",
      "- **Resources Required:** All team members for final review\n",
      "- **Effort:** 40 hours (final checks and launch)\n",
      "- **Deliverables:** Live website.\n",
      "- **Risks/Uncertainties:** Last-minute issues could arise during launch; need for rollback should be considered.\n",
      "\n",
      "### Summary of Risks and Uncertainties\n",
      "- **Dependencies:** The timeline is highly dependent on the completion of previous tasks; delays in earlier tasks will cascade.\n",
      "- **Feedback Loops:** Decision-making must be quick to avoid delaying the project. \n",
      "- **Resource Availability:** Potential unavailability of key team members can impact scheduled timelines.\n",
      "- **Content Variability:** Changes in content or project scope could affect deliverables and timelines.\n",
      "\n",
      "This detailed estimation report serves as a comprehensive guide to ensure each aspect of the website project is executed efficiently and effectively, minimizing risks and maximizing productivity.\u001b[00m\n",
      "\n",
      "\n",
      "\u001b[1m\u001b[95m# Agent:\u001b[00m \u001b[1m\u001b[92mResource Allocation Strategist\u001b[00m\n",
      "\u001b[95m## Task:\u001b[00m \u001b[92mStrategically allocate tasks for the Website project to team members based on their skills, availability, and current workload. Ensure that each task is assigned to the most suitable team member and that the workload is evenly distributed.\n",
      "\n",
      "Team members:\n",
      "\n",
      "- John Doe (Project Manager)\n",
      "- Jane Doe (Software Engineer)\n",
      "- Bob Smith (Designer)\n",
      "- Alice Johnson (QA Engineer)\n",
      "- Tom Brown (QA Engineer)\n",
      "\n",
      "\u001b[00m\n",
      "\n",
      "\n",
      "\u001b[1m\u001b[95m# Agent:\u001b[00m \u001b[1m\u001b[92mResource Allocation Strategist\u001b[00m\n",
      "\u001b[95m## Final Answer:\u001b[00m \u001b[92m\n",
      "### Resource Allocation Chart for Website Project\n",
      "\n",
      "| Task                                           | Team Member(s)               | Start Date | End Date   | Estimated Hours |\n",
      "|------------------------------------------------|-------------------------------|------------|------------|-----------------|\n",
      "| Create a Responsive Design                     | Bob Smith, Jane Doe          | Week 1    | Week 2    | 80              |\n",
      "| Implement Modern User Interface                | Bob Smith, Jane Doe          | Week 3    | Week 4    | 80              |\n",
      "| Develop User-Friendly Navigation System        | Jane Doe                     | Week 5    | Week 5    | 40              |\n",
      "| Create \"About Us\" Page                        | Bob Smith, Jane Doe          | Week 6    | Week 6    | 40              |\n",
      "| Design \"Services\" Page                        | Bob Smith, Jane Doe          | Week 7    | Week 7    | 40              |\n",
      "| Create \"Contact Us\" Page                      | Jane Doe                     | Week 8    | Week 8    | 40              |\n",
      "| Implement Blog Section                        | Jane Doe                     | Week 9    | Week 10   | 80              |\n",
      "| Ensure Fast Loading Times & SEO Optimization   | Jane Doe                     | Week 11   | Week 12   | 80              |\n",
      "| Integrate Social Media Links & Sharing Capabilities | Jane Doe                  | Week 13   | Week 13   | 40              |\n",
      "| Include Testimonials Section                   | Jane Doe                     | Week 14   | Week 14   | 40              |\n",
      "| Quality Assurance Testing                      | Alice Johnson, Tom Brown      | Week 15   | Week 16   | 160             |\n",
      "| Launch Website                                | John Doe, Bob Smith, Jane Doe, Alice Johnson, Tom Brown | Week 17 | Week 17 | 40              |\n",
      "\n",
      "### Summary of Allocation Rationale\n",
      "\n",
      "1. **Create a Responsive Design** (Weeks 1-2): Bob Smith (Designer) and Jane Doe (Software Engineer) are paired due to Bob's design expertise and Jane’s ability to translate designs into functioning code. This collaboration is crucial for the initial phase.\n",
      "\n",
      "2. **Implement Modern User Interface** (Weeks 3-4): Again, this task requires both a skilled designer and software engineer, making Bob and Jane the right fit to create a cohesive user interface.\n",
      "\n",
      "3. **Develop User-Friendly Navigation System** (Week 5): Only Jane Doe, being a Software Engineer, is required for this task to ensure a functional implementation of the navigation based on the prior design work.\n",
      "\n",
      "4. **Create \"About Us\" Page** (Week 6): This task requires both design and implementation; hence Jane and Bob work together again leveraging their previous collaboration.\n",
      "\n",
      "5. **Design \"Services\" Page** (Week 7): Bob and Jane are once again paired to ensure both design and technical expertise are utilized in creating the services page.\n",
      "\n",
      "6. **Create \"Contact Us\" Page** (Week 8): Assigned solely to Jane Doe, who can implement this page based on the established structure without requiring design input. \n",
      "\n",
      "7. **Implement Blog Section** (Weeks 9-10): Tasked only to Jane as it requires extensive coding effort. The continuity in responsibility helps her maintain context from previous tasks.\n",
      "\n",
      "8. **Ensure Fast Loading Times & SEO Optimization** (Weeks 11-12): Also assigned to Jane Doe, as the implementation of performance improvements and SEO tactics relies on her development skills.\n",
      "\n",
      "9. **Integrate Social Media Links & Sharing Capabilities** (Week 13): This is managed exclusively by Jane, focusing on social media integration through her coding capabilities.\n",
      "\n",
      "10. **Include Testimonials Section** (Week 14): Similar to the previous tasks, this is assigned to Jane to maintain the momentum in developing parts of the website.\n",
      "\n",
      "11. **Quality Assurance Testing** (Weeks 15-16): All testing efforts are divided between Alice Johnson and Tom Brown to ensure comprehensive coverage and to manage the workload efficiently.\n",
      "\n",
      "12. **Launch Website** (Week 17): All team members are involved for the final review of the website launch. This ensures that every aspect of the project is validated and approved before going live.\n",
      "\n",
      "This strategic task allocation balances team members' existing workloads and maximizes efficiency for the successful development of the website project. Each team member is utilized according to their strengths while preventing any single individual from becoming overburdened.\u001b[00m\n",
      "\n",
      "\n"
     ]
    }
   ],
   "source": [
    "# The given Python dictionary\n",
    "inputs = {\n",
    "  'project_type': project,\n",
    "  'project_objectives': project_objectives,\n",
    "  'industry': industry,\n",
    "  'team_members': team_members,\n",
    "  'project_requirements': project_requirements\n",
    "}\n",
    "\n",
    "# Run the crew\n",
    "result = crew.kickoff(\n",
    "  inputs=inputs\n",
    ")"
   ]
  },
  {
   "cell_type": "markdown",
   "id": "7879258f-52df-4503-b08e-acd516d0a946",
   "metadata": {},
   "source": [
    "## Usage Metrics and Costs"
   ]
  },
  {
   "cell_type": "markdown",
   "id": "d94dad33-91c9-4aac-8e16-24117dbbef46",
   "metadata": {},
   "source": [
    "Let’s see how much it would cost each time if this crew runs at scale."
   ]
  },
  {
   "cell_type": "code",
   "execution_count": 34,
   "id": "66b3b165-2a4b-46cc-93f7-696dffff1e10",
   "metadata": {
    "height": 149
   },
   "outputs": [
    {
     "name": "stdout",
     "output_type": "stream",
     "text": [
      "Total costs: $0.0030\n"
     ]
    },
    {
     "data": {
      "text/html": [
       "<div>\n",
       "<style scoped>\n",
       "    .dataframe tbody tr th:only-of-type {\n",
       "        vertical-align: middle;\n",
       "    }\n",
       "\n",
       "    .dataframe tbody tr th {\n",
       "        vertical-align: top;\n",
       "    }\n",
       "\n",
       "    .dataframe thead th {\n",
       "        text-align: right;\n",
       "    }\n",
       "</style>\n",
       "<table border=\"1\" class=\"dataframe\">\n",
       "  <thead>\n",
       "    <tr style=\"text-align: right;\">\n",
       "      <th></th>\n",
       "      <th>total_tokens</th>\n",
       "      <th>prompt_tokens</th>\n",
       "      <th>completion_tokens</th>\n",
       "      <th>successful_requests</th>\n",
       "    </tr>\n",
       "  </thead>\n",
       "  <tbody>\n",
       "    <tr>\n",
       "      <th>0</th>\n",
       "      <td>19748</td>\n",
       "      <td>12061</td>\n",
       "      <td>7687</td>\n",
       "      <td>9</td>\n",
       "    </tr>\n",
       "  </tbody>\n",
       "</table>\n",
       "</div>"
      ],
      "text/plain": [
       "   total_tokens  prompt_tokens  completion_tokens  successful_requests\n",
       "0         19748          12061               7687                    9"
      ]
     },
     "execution_count": 34,
     "metadata": {},
     "output_type": "execute_result"
    }
   ],
   "source": [
    "import pandas as pd\n",
    "\n",
    "costs = 0.150 * (crew.usage_metrics.prompt_tokens + crew.usage_metrics.completion_tokens) / 1_000_000\n",
    "print(f\"Total costs: ${costs:.4f}\")\n",
    "\n",
    "# Convert UsageMetrics instance to a DataFrame\n",
    "df_usage_metrics = pd.DataFrame([crew.usage_metrics.dict()])\n",
    "df_usage_metrics"
   ]
  },
  {
   "cell_type": "markdown",
   "id": "4982e83a-9e54-4510-9f06-751b34848287",
   "metadata": {},
   "source": [
    "## Result"
   ]
  },
  {
   "cell_type": "code",
   "execution_count": 35,
   "id": "6396b0f6-e3ae-4a89-a3e9-ca53aa042c40",
   "metadata": {
    "height": 30
   },
   "outputs": [
    {
     "data": {
      "text/plain": [
       "{'tasks': [{'task_name': 'Create a Responsive Design',\n",
       "   'estimated_time_hours': 80.0,\n",
       "   'required_resources': ['Bob Smith', 'Jane Doe']},\n",
       "  {'task_name': 'Implement Modern User Interface',\n",
       "   'estimated_time_hours': 80.0,\n",
       "   'required_resources': ['Bob Smith', 'Jane Doe']},\n",
       "  {'task_name': 'Develop User-Friendly Navigation System',\n",
       "   'estimated_time_hours': 40.0,\n",
       "   'required_resources': ['Jane Doe']},\n",
       "  {'task_name': 'Create \"About Us\" Page',\n",
       "   'estimated_time_hours': 40.0,\n",
       "   'required_resources': ['Bob Smith', 'Jane Doe']},\n",
       "  {'task_name': 'Design \"Services\" Page',\n",
       "   'estimated_time_hours': 40.0,\n",
       "   'required_resources': ['Bob Smith', 'Jane Doe']},\n",
       "  {'task_name': 'Create \"Contact Us\" Page',\n",
       "   'estimated_time_hours': 40.0,\n",
       "   'required_resources': ['Jane Doe']},\n",
       "  {'task_name': 'Implement Blog Section',\n",
       "   'estimated_time_hours': 80.0,\n",
       "   'required_resources': ['Jane Doe']},\n",
       "  {'task_name': 'Ensure Fast Loading Times & SEO Optimization',\n",
       "   'estimated_time_hours': 80.0,\n",
       "   'required_resources': ['Jane Doe']},\n",
       "  {'task_name': 'Integrate Social Media Links & Sharing Capabilities',\n",
       "   'estimated_time_hours': 40.0,\n",
       "   'required_resources': ['Jane Doe']},\n",
       "  {'task_name': 'Include Testimonials Section',\n",
       "   'estimated_time_hours': 40.0,\n",
       "   'required_resources': ['Jane Doe']},\n",
       "  {'task_name': 'Quality Assurance Testing',\n",
       "   'estimated_time_hours': 160.0,\n",
       "   'required_resources': ['Alice Johnson', 'Tom Brown']},\n",
       "  {'task_name': 'Launch Website',\n",
       "   'estimated_time_hours': 40.0,\n",
       "   'required_resources': ['John Doe',\n",
       "    'Bob Smith',\n",
       "    'Jane Doe',\n",
       "    'Alice Johnson',\n",
       "    'Tom Brown']}],\n",
       " 'milestones': [{'milestone_name': 'Website Design & Development',\n",
       "   'tasks': ['Create a Responsive Design',\n",
       "    'Implement Modern User Interface',\n",
       "    'Develop User-Friendly Navigation System',\n",
       "    'Create \"About Us\" Page',\n",
       "    'Design \"Services\" Page',\n",
       "    'Create \"Contact Us\" Page',\n",
       "    'Implement Blog Section',\n",
       "    'Ensure Fast Loading Times & SEO Optimization',\n",
       "    'Integrate Social Media Links & Sharing Capabilities',\n",
       "    'Include Testimonials Section']},\n",
       "  {'milestone_name': 'Quality Assurance & Launch',\n",
       "   'tasks': ['Quality Assurance Testing', 'Launch Website']}]}"
      ]
     },
     "execution_count": 35,
     "metadata": {},
     "output_type": "execute_result"
    }
   ],
   "source": [
    "result.pydantic.dict()"
   ]
  },
  {
   "cell_type": "markdown",
   "id": "18ffcc83-350e-4f99-b03b-458690cc0ed2",
   "metadata": {},
   "source": [
    "## Inspect further"
   ]
  },
  {
   "cell_type": "code",
   "execution_count": 36,
   "id": "da1bbf90-4bfc-4529-84dd-d0bd00198353",
   "metadata": {
    "height": 132
   },
   "outputs": [
    {
     "data": {
      "text/html": [
       "<style type=\"text/css\">\n",
       "#T_3227d th {\n",
       "  font-size: 120%;\n",
       "}\n",
       "#T_3227d  td {\n",
       "  font-size: 120%;\n",
       "}\n",
       "</style>\n",
       "<table id=\"T_3227d\" border=\"1\">\n",
       "  <caption>Task Details</caption>\n",
       "  <thead>\n",
       "    <tr>\n",
       "      <th class=\"blank level0\" >&nbsp;</th>\n",
       "      <th id=\"T_3227d_level0_col0\" class=\"col_heading level0 col0\" >task_name</th>\n",
       "      <th id=\"T_3227d_level0_col1\" class=\"col_heading level0 col1\" >estimated_time_hours</th>\n",
       "      <th id=\"T_3227d_level0_col2\" class=\"col_heading level0 col2\" >required_resources</th>\n",
       "    </tr>\n",
       "  </thead>\n",
       "  <tbody>\n",
       "    <tr>\n",
       "      <th id=\"T_3227d_level0_row0\" class=\"row_heading level0 row0\" >0</th>\n",
       "      <td id=\"T_3227d_row0_col0\" class=\"data row0 col0\" >Create a Responsive Design</td>\n",
       "      <td id=\"T_3227d_row0_col1\" class=\"data row0 col1\" >80.000000</td>\n",
       "      <td id=\"T_3227d_row0_col2\" class=\"data row0 col2\" >['Bob Smith', 'Jane Doe']</td>\n",
       "    </tr>\n",
       "    <tr>\n",
       "      <th id=\"T_3227d_level0_row1\" class=\"row_heading level0 row1\" >1</th>\n",
       "      <td id=\"T_3227d_row1_col0\" class=\"data row1 col0\" >Implement Modern User Interface</td>\n",
       "      <td id=\"T_3227d_row1_col1\" class=\"data row1 col1\" >80.000000</td>\n",
       "      <td id=\"T_3227d_row1_col2\" class=\"data row1 col2\" >['Bob Smith', 'Jane Doe']</td>\n",
       "    </tr>\n",
       "    <tr>\n",
       "      <th id=\"T_3227d_level0_row2\" class=\"row_heading level0 row2\" >2</th>\n",
       "      <td id=\"T_3227d_row2_col0\" class=\"data row2 col0\" >Develop User-Friendly Navigation System</td>\n",
       "      <td id=\"T_3227d_row2_col1\" class=\"data row2 col1\" >40.000000</td>\n",
       "      <td id=\"T_3227d_row2_col2\" class=\"data row2 col2\" >['Jane Doe']</td>\n",
       "    </tr>\n",
       "    <tr>\n",
       "      <th id=\"T_3227d_level0_row3\" class=\"row_heading level0 row3\" >3</th>\n",
       "      <td id=\"T_3227d_row3_col0\" class=\"data row3 col0\" >Create \"About Us\" Page</td>\n",
       "      <td id=\"T_3227d_row3_col1\" class=\"data row3 col1\" >40.000000</td>\n",
       "      <td id=\"T_3227d_row3_col2\" class=\"data row3 col2\" >['Bob Smith', 'Jane Doe']</td>\n",
       "    </tr>\n",
       "    <tr>\n",
       "      <th id=\"T_3227d_level0_row4\" class=\"row_heading level0 row4\" >4</th>\n",
       "      <td id=\"T_3227d_row4_col0\" class=\"data row4 col0\" >Design \"Services\" Page</td>\n",
       "      <td id=\"T_3227d_row4_col1\" class=\"data row4 col1\" >40.000000</td>\n",
       "      <td id=\"T_3227d_row4_col2\" class=\"data row4 col2\" >['Bob Smith', 'Jane Doe']</td>\n",
       "    </tr>\n",
       "    <tr>\n",
       "      <th id=\"T_3227d_level0_row5\" class=\"row_heading level0 row5\" >5</th>\n",
       "      <td id=\"T_3227d_row5_col0\" class=\"data row5 col0\" >Create \"Contact Us\" Page</td>\n",
       "      <td id=\"T_3227d_row5_col1\" class=\"data row5 col1\" >40.000000</td>\n",
       "      <td id=\"T_3227d_row5_col2\" class=\"data row5 col2\" >['Jane Doe']</td>\n",
       "    </tr>\n",
       "    <tr>\n",
       "      <th id=\"T_3227d_level0_row6\" class=\"row_heading level0 row6\" >6</th>\n",
       "      <td id=\"T_3227d_row6_col0\" class=\"data row6 col0\" >Implement Blog Section</td>\n",
       "      <td id=\"T_3227d_row6_col1\" class=\"data row6 col1\" >80.000000</td>\n",
       "      <td id=\"T_3227d_row6_col2\" class=\"data row6 col2\" >['Jane Doe']</td>\n",
       "    </tr>\n",
       "    <tr>\n",
       "      <th id=\"T_3227d_level0_row7\" class=\"row_heading level0 row7\" >7</th>\n",
       "      <td id=\"T_3227d_row7_col0\" class=\"data row7 col0\" >Ensure Fast Loading Times & SEO Optimization</td>\n",
       "      <td id=\"T_3227d_row7_col1\" class=\"data row7 col1\" >80.000000</td>\n",
       "      <td id=\"T_3227d_row7_col2\" class=\"data row7 col2\" >['Jane Doe']</td>\n",
       "    </tr>\n",
       "    <tr>\n",
       "      <th id=\"T_3227d_level0_row8\" class=\"row_heading level0 row8\" >8</th>\n",
       "      <td id=\"T_3227d_row8_col0\" class=\"data row8 col0\" >Integrate Social Media Links & Sharing Capabilities</td>\n",
       "      <td id=\"T_3227d_row8_col1\" class=\"data row8 col1\" >40.000000</td>\n",
       "      <td id=\"T_3227d_row8_col2\" class=\"data row8 col2\" >['Jane Doe']</td>\n",
       "    </tr>\n",
       "    <tr>\n",
       "      <th id=\"T_3227d_level0_row9\" class=\"row_heading level0 row9\" >9</th>\n",
       "      <td id=\"T_3227d_row9_col0\" class=\"data row9 col0\" >Include Testimonials Section</td>\n",
       "      <td id=\"T_3227d_row9_col1\" class=\"data row9 col1\" >40.000000</td>\n",
       "      <td id=\"T_3227d_row9_col2\" class=\"data row9 col2\" >['Jane Doe']</td>\n",
       "    </tr>\n",
       "    <tr>\n",
       "      <th id=\"T_3227d_level0_row10\" class=\"row_heading level0 row10\" >10</th>\n",
       "      <td id=\"T_3227d_row10_col0\" class=\"data row10 col0\" >Quality Assurance Testing</td>\n",
       "      <td id=\"T_3227d_row10_col1\" class=\"data row10 col1\" >160.000000</td>\n",
       "      <td id=\"T_3227d_row10_col2\" class=\"data row10 col2\" >['Alice Johnson', 'Tom Brown']</td>\n",
       "    </tr>\n",
       "    <tr>\n",
       "      <th id=\"T_3227d_level0_row11\" class=\"row_heading level0 row11\" >11</th>\n",
       "      <td id=\"T_3227d_row11_col0\" class=\"data row11 col0\" >Launch Website</td>\n",
       "      <td id=\"T_3227d_row11_col1\" class=\"data row11 col1\" >40.000000</td>\n",
       "      <td id=\"T_3227d_row11_col2\" class=\"data row11 col2\" >['John Doe', 'Bob Smith', 'Jane Doe', 'Alice Johnson', 'Tom Brown']</td>\n",
       "    </tr>\n",
       "  </tbody>\n",
       "</table>\n"
      ],
      "text/plain": [
       "<pandas.io.formats.style.Styler at 0x179764590>"
      ]
     },
     "execution_count": 36,
     "metadata": {},
     "output_type": "execute_result"
    }
   ],
   "source": [
    "tasks = result.pydantic.dict()['tasks']\n",
    "df_tasks = pd.DataFrame(tasks)\n",
    "\n",
    "# Display the DataFrame as an HTML table\n",
    "df_tasks.style.set_table_attributes('border=\"1\"').set_caption(\"Task Details\").set_table_styles(\n",
    "    [{'selector': 'th, td', 'props': [('font-size', '120%')]}]\n",
    ")"
   ]
  },
  {
   "cell_type": "markdown",
   "id": "1210cae8-e028-4f7e-90ed-950ef86d41e5",
   "metadata": {},
   "source": [
    "### Inspecting Milestones"
   ]
  },
  {
   "cell_type": "code",
   "execution_count": 37,
   "id": "91c2f18c-2d5b-41a9-837b-265e7aa245d0",
   "metadata": {
    "height": 132
   },
   "outputs": [
    {
     "data": {
      "text/html": [
       "<style type=\"text/css\">\n",
       "#T_3b110 th {\n",
       "  font-size: 120%;\n",
       "}\n",
       "#T_3b110  td {\n",
       "  font-size: 120%;\n",
       "}\n",
       "</style>\n",
       "<table id=\"T_3b110\" border=\"1\">\n",
       "  <caption>Task Details</caption>\n",
       "  <thead>\n",
       "    <tr>\n",
       "      <th class=\"blank level0\" >&nbsp;</th>\n",
       "      <th id=\"T_3b110_level0_col0\" class=\"col_heading level0 col0\" >milestone_name</th>\n",
       "      <th id=\"T_3b110_level0_col1\" class=\"col_heading level0 col1\" >tasks</th>\n",
       "    </tr>\n",
       "  </thead>\n",
       "  <tbody>\n",
       "    <tr>\n",
       "      <th id=\"T_3b110_level0_row0\" class=\"row_heading level0 row0\" >0</th>\n",
       "      <td id=\"T_3b110_row0_col0\" class=\"data row0 col0\" >Website Design & Development</td>\n",
       "      <td id=\"T_3b110_row0_col1\" class=\"data row0 col1\" >['Create a Responsive Design', 'Implement Modern User Interface', 'Develop User-Friendly Navigation System', 'Create \"About Us\" Page', 'Design \"Services\" Page', 'Create \"Contact Us\" Page', 'Implement Blog Section', 'Ensure Fast Loading Times & SEO Optimization', 'Integrate Social Media Links & Sharing Capabilities', 'Include Testimonials Section']</td>\n",
       "    </tr>\n",
       "    <tr>\n",
       "      <th id=\"T_3b110_level0_row1\" class=\"row_heading level0 row1\" >1</th>\n",
       "      <td id=\"T_3b110_row1_col0\" class=\"data row1 col0\" >Quality Assurance & Launch</td>\n",
       "      <td id=\"T_3b110_row1_col1\" class=\"data row1 col1\" >['Quality Assurance Testing', 'Launch Website']</td>\n",
       "    </tr>\n",
       "  </tbody>\n",
       "</table>\n"
      ],
      "text/plain": [
       "<pandas.io.formats.style.Styler at 0x320477cb0>"
      ]
     },
     "execution_count": 37,
     "metadata": {},
     "output_type": "execute_result"
    }
   ],
   "source": [
    "milestones = result.pydantic.dict()['milestones']\n",
    "df_milestones = pd.DataFrame(milestones)\n",
    "\n",
    "# Display the DataFrame as an HTML table\n",
    "df_milestones.style.set_table_attributes('border=\"1\"').set_caption(\"Task Details\").set_table_styles(\n",
    "    [{'selector': 'th, td', 'props': [('font-size', '120%')]}]\n",
    ")"
   ]
  },
  {
   "cell_type": "code",
   "execution_count": null,
   "id": "a593fd80-36ef-48a1-a7c7-e45c37815f67",
   "metadata": {
    "height": 30
   },
   "outputs": [],
   "source": []
  },
  {
   "cell_type": "code",
   "execution_count": null,
   "id": "2e2c2526-de6d-4006-bd25-8c51e1f3d5f7",
   "metadata": {
    "height": 30
   },
   "outputs": [],
   "source": []
  },
  {
   "cell_type": "code",
   "execution_count": null,
   "id": "1ac3e1e0-e14f-446e-a912-18794337925c",
   "metadata": {
    "height": 30
   },
   "outputs": [],
   "source": []
  },
  {
   "cell_type": "code",
   "execution_count": null,
   "id": "c34b5062-29e2-4fbb-b771-02f5f547e47c",
   "metadata": {
    "height": 30
   },
   "outputs": [],
   "source": []
  },
  {
   "cell_type": "code",
   "execution_count": null,
   "id": "70303180-389e-4e90-8444-aba384ec8751",
   "metadata": {
    "height": 30
   },
   "outputs": [],
   "source": []
  },
  {
   "cell_type": "code",
   "execution_count": null,
   "id": "109926d3-50e5-43e7-87f8-a1d38e45d79d",
   "metadata": {
    "height": 30
   },
   "outputs": [],
   "source": []
  }
 ],
 "metadata": {
  "kernelspec": {
   "display_name": "Python 3",
   "language": "python",
   "name": "python3"
  },
  "language_info": {
   "codemirror_mode": {
    "name": "ipython",
    "version": 3
   },
   "file_extension": ".py",
   "mimetype": "text/x-python",
   "name": "python",
   "nbconvert_exporter": "python",
   "pygments_lexer": "ipython3",
   "version": "3.12.6"
  }
 },
 "nbformat": 4,
 "nbformat_minor": 5
}
